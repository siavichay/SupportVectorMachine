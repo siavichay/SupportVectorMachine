{
 "cells": [
  {
   "cell_type": "markdown",
   "metadata": {},
   "source": [
    "# Support Vector Machine\n",
    "## Universidad Politecnica Salesiana\n",
    "## Por: Alexander Siavichay\n",
    "\n",
    "Disponible en:https://github.com/siavichay/SupportVectorMachine/blob/master/Practica_SVM.ipynb\n",
    "    \n",
    "A continuacion se presenta una implementacion simple de un modelo lineal con Support Vector Machine.\n",
    "La data utilizada representa los resultados academicos de la Unidad Educativa Gabriel Arsenio Ullauri de la Ciudad de Cuenca-Ecuador del período 2018 y 2019\n",
    "\n",
    "## Algoritmo SVM\n",
    "El algoritmo presentado fué provisto, al cual se le hicieron unas leves modificaciones."
   ]
  },
  {
   "cell_type": "code",
   "execution_count": 266,
   "metadata": {},
   "outputs": [],
   "source": [
    "import matplotlib.pyplot as plt\n",
    "from matplotlib import style\n",
    "import numpy as np\n",
    "style.use('ggplot')\n",
    "%matplotlib inline\n",
    "\n",
    "class Support_Vector_Machine:\n",
    "    def __init__(self, visualization=True):\n",
    "        self.visualization = visualization\n",
    "        #self.colors = {1:'r',-1:'b'}\n",
    "        self.colors = {1:'r',-1:'b'}\n",
    "        if self.visualization:\n",
    "            self.fig = plt.figure()\n",
    "            self.ax = self.fig.add_subplot(2,1,1)\n",
    "            self.ax2 = self.fig.add_subplot(2,1,2)\n",
    "            self.ax2.margins(x=-0.4, y=-0.4)\n",
    "        \n",
    "        #train\n",
    "        \n",
    "    def fit(self, data):\n",
    "        self.data = data\n",
    "        # { ||w||: [w,b] }\n",
    "        opt_dict = {}\n",
    "        transforms = [[1,1],\n",
    "                      [-1,1],\n",
    "                      [-1,-1],\n",
    "                      [1,-1]]\n",
    "        all_data = []\n",
    "    \n",
    "        for yi in self.data:\n",
    "            for featureset in self.data[yi]:\n",
    "                \n",
    "                #print(featureset)\n",
    "                for feature in featureset:\n",
    "                    all_data.append(feature)\n",
    "                #all_data.append(featureset)\n",
    "        \n",
    "        \n",
    "        self.max_feature_value = max(all_data)\n",
    "        self.min_feature_value = min(all_data)\n",
    "       \n",
    "        all_data = None\n",
    "        # support_vectors yi=(xi.w+b) = 1\n",
    "   \n",
    "        step_sizes = ([ self.max_feature_value * 0.1, self.max_feature_value * 0.01, self.max_feature_value * 0.001 ])\n",
    "        #step_sizes = ([ self.max_feature_value * 0.1, self.max_feature_value * 0.01 ])\n",
    "        \n",
    "        # extremely expensive\n",
    "        b_range_multiple = 5\n",
    "        # no necesitamos tomar un pequeño número de pasos\n",
    "        # con b tal como hacemos w\n",
    "        b_multiple = 5\n",
    "        latest_optimum = self.max_feature_value*10\n",
    "        \n",
    "        for step in step_sizes:\n",
    "            w = np.array([latest_optimum, latest_optimum])\n",
    "            #Podemos hacer eso porque es un problema convexo\n",
    "            optimized = False# este estaba en False\n",
    "            while not optimized:\n",
    "                for b in np.arange(-1*(self.max_feature_value*b_range_multiple),self.max_feature_value*b_range_multiple,step*b_multiple):\n",
    "                    for transformation in transforms:\n",
    "                        w_t = w*transformation\n",
    "                        found_option = True\n",
    "                        # es el link más débil en el SVM\n",
    "                        # SMO intenta arreglar este bit\n",
    "                        # restriccion yi(xi.x+b) >= 1\n",
    "                        #\n",
    "                        # add a break a partir de aqui\n",
    "                        for i in self.data:\n",
    "                            for xi in self.data[i]:\n",
    "                                yi=i\n",
    "                                if not yi*(np.dot(w_t,xi)+b) >= 1:\n",
    "                                    found_option = False\n",
    "                                #print(xi,':',yi*(np.dot(w_t,xi)+b))\n",
    "                        if found_option:\n",
    "                            opt_dict[np.linalg.norm(w_t)] = [w_t, b]\n",
    "                if w[0] < 0:\n",
    "                    optimized = True\n",
    "                    #print('Optimizado un paso')\n",
    "                else:\n",
    "                    w = w - step\n",
    "                    \n",
    "            norms = sorted([n for n in opt_dict])\n",
    "            #||w|| : [w,b]\n",
    "            opt_choice = opt_dict[norms[0]]\n",
    "            self.w = opt_choice[0]\n",
    "            self.b = opt_choice[1]\n",
    "            latest_optimum = opt_choice[0][0]+step*2\n",
    "        \n",
    "        for i in self.data:\n",
    "            for xi in self.data[i]: \n",
    "                yi=i\n",
    "                #print(xi,':',yi*(np.dot(self.w,xi)+self.b))\n",
    "                \n",
    "    def prediccion(self,features):\n",
    "        # sign( x.w+b)\n",
    "        classification = np.sign(np.dot(np.array(features), self.w)+self.b)\n",
    "        if classification !=0 and self.visualization:\n",
    "            self.ax.scatter(features[0], features[1], s=200, marker='*', c=self.colors[classification])\n",
    "            self.ax2.scatter(features[0], features[1], s=100, marker='*', c=self.colors[classification])\n",
    "        return classification\n",
    "    \n",
    "    def visualize(self):\n",
    "        [[self.ax.scatter(x[0],x[1], s=100, color=self.colors[i]) for x in data_dict[i]] for i in data_dict]\n",
    "        [[self.ax2.scatter(x[0],x[1], s=50, color=self.colors[i]) for x in data_dict[i]] for i in data_dict]\n",
    "        #hyperplane = x.w+b\n",
    "        # v = w.x+b son las salidas que buscamos\n",
    "        # psv = 1\n",
    "        # nsv = -1\n",
    "        # dec = 0\n",
    "        def hyperplane(x,w,b,v):\n",
    "            return(-w[0]*x-b+v) / w[1]\n",
    "        \n",
    "        datarange = (self.min_feature_value*0.9,self.max_feature_value*1.1)\n",
    "        hyp_x_min = datarange[0]\n",
    "        hyp_x_max = datarange[1]\n",
    "        # (w.x+b)=1\n",
    "        # hiperplano de soporte vectorial positivo\n",
    "        psv1 = hyperplane(hyp_x_min, self.w, self.b, 1)\n",
    "        psv2 = hyperplane(hyp_x_max, self.w, self.b, 1)\n",
    "        self.ax.plot([hyp_x_min, hyp_x_max],[psv1,psv2], 'k')\n",
    "        self.ax2.plot([hyp_x_min, hyp_x_max],[psv1,psv2], 'k')\n",
    "        # (w.x+b)=-1\n",
    "        # hiperplano de soporte vectorial negativo\n",
    "        nsv1 = hyperplane(hyp_x_min, self.w, self.b, -1)\n",
    "        nsv2 = hyperplane(hyp_x_max, self.w, self.b, -1)\n",
    "        self.ax.plot([hyp_x_min, hyp_x_max],[nsv1,nsv2], 'k')\n",
    "        self.ax2.plot([hyp_x_min, hyp_x_max],[nsv1,nsv2], 'k')\n",
    "        # (w.x+b)=0\n",
    "        # hiperplano de soporte vectorial positivo\n",
    "        db1 = hyperplane(hyp_x_min, self.w, self.b, 0)\n",
    "        db2 = hyperplane(hyp_x_max, self.w, self.b, 0)\n",
    "        \n",
    "        self.ax.plot([hyp_x_min, hyp_x_max],[db1,db2],'y--')\n",
    "        self.ax2.plot([hyp_x_min, hyp_x_max],[db1,db2],'y--')\n",
    "        \n",
    "        plt.show()\n",
    "        \n",
    "\n"
   ]
  },
  {
   "cell_type": "markdown",
   "metadata": {},
   "source": [
    "## Dataset\n",
    "Para el entrenamiento se utilizo una data previamente tratada con dos posibles resultados, por un lado, el resultado academico de mujeres vs hombres de la Unidad Educativa. Se evitaron ubicar datos ambiguos, caso contrario el algoritmo desarrollado no genera buenos resultados, o termina desbordandose.\n",
    "Los datos tomados están desordenados y corresponden al período 2018.\n",
    "\n",
    "\n",
    "Luego en el Test se ingreso los datos academicos del año 2019, se correlacionó los resultados siendo los datos centrales los unicos con un margen de error mínimo."
   ]
  },
  {
   "cell_type": "code",
   "execution_count": 256,
   "metadata": {},
   "outputs": [],
   "source": [
    "data = np.loadtxt(\"ArsenioUllauri2018\", delimiter=\",\",dtype=\"int\") # Load in the data\n",
    "test = np.loadtxt(\"ArsenioUllauri2019\", delimiter=\",\",dtype=\"int\") # Load in the data\n",
    "#data = np.loadtxt(\"fourclass.csv\", delimiter=\";\",dtype=\"int\") # Load in the data"
   ]
  },
  {
   "cell_type": "code",
   "execution_count": 257,
   "metadata": {},
   "outputs": [],
   "source": [
    "labels=data[:,2]\n",
    "data=data[:,:-1]\n",
    "test=test[:,:-1]\n"
   ]
  },
  {
   "cell_type": "markdown",
   "metadata": {},
   "source": [
    "## Tratamiento de datos Train\n",
    "El algoritmo SVM necesita conocer los datos binarios, por lo que se separa de manera previa aquellos que se encuentran con 1 en el label corresponde a los datos de estudiantes hombres para el caso contrario, estudiantes mujeres."
   ]
  },
  {
   "cell_type": "code",
   "execution_count": 260,
   "metadata": {},
   "outputs": [],
   "source": [
    "negativoTrain=np.zeros( (200, 2) )\n",
    "positivoTrain=np.zeros( (200, 2) )\n",
    "ii=0\n",
    "jj=0\n",
    "for i in range(len(labels)):\n",
    "    if labels[i]==1:\n",
    "        \n",
    "        positivoTrain[ii][0]=data[i][0]\n",
    "        positivoTrain[ii][1]=data[i][1]\n",
    "        ii=ii+1\n",
    "        \n",
    "    else:\n",
    "\n",
    "        negativoTrain[jj][0]=data[i][0]\n",
    "        negativoTrain[jj][1]=data[i][1]\n",
    "        jj=jj+1"
   ]
  },
  {
   "cell_type": "markdown",
   "metadata": {},
   "source": [
    "## EJECUCION\n",
    "En el codigo siguiente primeramente se llama a la clase Support_Vector_Machine, con ello se entrena los datos, tomando solo 40 de ellos.\n",
    "En el caso de Train se utilzó los 190 resultados del año 2019.\n",
    "El color rojo en el grafico representa los resultados academicos de las mujeres, y los azules de los varones.\n",
    "Las estrellas son las predicciones."
   ]
  },
  {
   "cell_type": "code",
   "execution_count": 267,
   "metadata": {
    "scrolled": true
   },
   "outputs": [
    {
     "data": {
      "image/png": "[encoded data removed]",
      "text/plain": [
       "<Figure size 432x288 with 2 Axes>"
      ]
     },
     "metadata": {
      "needs_background": "light"
     },
     "output_type": "display_data"
    }
   ],
   "source": [
    "negativo=negativoTrain[1:40:]\n",
    "#print(positivo)\n",
    "positivo=positivoTrain[1:40:]\n",
    "data_dict = {-1:negativo,1:positivo}\n",
    "#print(data_dict)\n",
    "svm = Support_Vector_Machine()\n",
    "svm.fit(data = data_dict)\n",
    "prediccion_us = test[1:190:]\n",
    "for p in prediccion_us:\n",
    "    svm.prediccion(p)\n",
    "svm.visualize()\n"
   ]
  },
  {
   "cell_type": "markdown",
   "metadata": {},
   "source": [
    "## Conclusiones\n",
    "En el gráfico anterior se puede observar como el algoritmo SVM logra separar muy bien los datos de Test(Estrellas) provistos. El color rojo representa los resultaodazul representa \n",
    "\n",
    "El algoritmo necesita pulirse para trabajar con datos mas complejos."
   ]
  },
  {
   "cell_type": "code",
   "execution_count": null,
   "metadata": {},
   "outputs": [],
   "source": []
  }
 ],
 "metadata": {
  "kernelspec": {
   "display_name": "Python 3",
   "language": "python",
   "name": "python3"
  },
  "language_info": {
   "codemirror_mode": {
    "name": "ipython",
    "version": 3
   },
   "file_extension": ".py",
   "mimetype": "text/x-python",
   "name": "python",
   "nbconvert_exporter": "python",
   "pygments_lexer": "ipython3",
   "version": "3.7.3"
  }
 },
 "nbformat": 4,
 "nbformat_minor": 2
}
